{
 "cells": [
  {
   "cell_type": "markdown",
   "metadata": {},
   "source": [
    "# Modelling & Training"
   ]
  },
  {
   "cell_type": "markdown",
   "metadata": {},
   "source": [
    "In this notebook we are going to structure and train the models needed for the SpotMask software.\n",
    "\n",
    "1. Mask Detection (mask vs no mask)\n",
    "2. Mask Correctness (proper vs improper)\n",
    "3. Mask Suggestions (nose / mouth / chin / proper / off)"
   ]
  },
  {
   "cell_type": "markdown",
   "metadata": {},
   "source": [
    "## Preparatory Steps"
   ]
  },
  {
   "cell_type": "markdown",
   "metadata": {},
   "source": [
    "Then we import base libraries that we will need"
   ]
  },
  {
   "cell_type": "code",
   "execution_count": 1,
   "metadata": {},
   "outputs": [],
   "source": [
    "# General\n",
    "import os\n",
    "from IPython.display import Image\n",
    "import matplotlib.pyplot as plt\n",
    "import pandas as pd\n",
    "import numpy as np\n",
    "import time"
   ]
  },
  {
   "cell_type": "markdown",
   "metadata": {},
   "source": [
    "In case of need to ignore the **local GPU** for memory limits or other reasons we can run the following code."
   ]
  },
  {
   "cell_type": "code",
   "execution_count": 2,
   "metadata": {},
   "outputs": [],
   "source": [
    "#os.environ[\"CUDA_VISIBLE_DEVICES\"] = \"-1\""
   ]
  },
  {
   "cell_type": "markdown",
   "metadata": {},
   "source": [
    "Importing ```TensorFlow``` libraries"
   ]
  },
  {
   "cell_type": "code",
   "execution_count": 3,
   "metadata": {},
   "outputs": [],
   "source": [
    "# TensorFlow\n",
    "from tensorflow.keras import layers\n",
    "from tensorflow.keras import models\n",
    "from tensorflow.keras.preprocessing import image\n",
    "from tensorflow.keras.preprocessing.image import ImageDataGenerator\n",
    "from tensorflow.keras import optimizers\n",
    "from tensorflow.keras.models import load_model\n",
    "from tensorflow.keras.callbacks import CSVLogger, EarlyStopping\n",
    "from tensorflow.keras.utils import plot_model\n",
    "from tensorflow.keras import backend"
   ]
  },
  {
   "cell_type": "markdown",
   "metadata": {},
   "source": [
    "Subsequently we set up our base dir. \n",
    "Feel free to change the *base_dir* with the project folder on your machine. In our case will remain the main project folder obtained from the github repository."
   ]
  },
  {
   "cell_type": "markdown",
   "metadata": {},
   "source": [
    "We report here below the snippet if required"
   ]
  },
  {
   "cell_type": "markdown",
   "metadata": {},
   "source": [
    "```! git clone https://github.com/JacopoBugini/SpotMask.git```"
   ]
  },
  {
   "cell_type": "markdown",
   "metadata": {},
   "source": [
    "We set then the path to the base folder, in our case the downloaded repo ```SpotMask```"
   ]
  },
  {
   "cell_type": "code",
   "execution_count": 4,
   "metadata": {},
   "outputs": [],
   "source": [
    "#path to the folder on your machine\n",
    "base_dir = '' "
   ]
  },
  {
   "cell_type": "markdown",
   "metadata": {},
   "source": [
    "**Remember to download the datasets first and copy them inside the dataset folder before executing the code as explained in details in the Report (Section 2.2)**"
   ]
  },
  {
   "cell_type": "markdown",
   "metadata": {},
   "source": [
    "____"
   ]
  },
  {
   "cell_type": "markdown",
   "metadata": {},
   "source": [
    "## 1. Mask Detection"
   ]
  },
  {
   "cell_type": "markdown",
   "metadata": {},
   "source": [
    "We want to build a model able to detect if a mask is present or not on a specific individual, without checking its actual correctness.\n",
    "\n",
    "For this reason we will need to train a net with 2 outputs:\n",
    "1. Mask Detected\n",
    "2. No Mask Detected"
   ]
  },
  {
   "cell_type": "markdown",
   "metadata": {},
   "source": [
    "### Mask Detection Model Set-Up"
   ]
  },
  {
   "cell_type": "markdown",
   "metadata": {},
   "source": [
    "The model chosen is a sequential CNN with the following structure:"
   ]
  },
  {
   "cell_type": "code",
   "execution_count": 5,
   "metadata": {},
   "outputs": [],
   "source": [
    "detection_model = models.Sequential()\n",
    "\n",
    "detection_model.add(layers.Conv2D(32, (3, 3), activation='relu',\n",
    "                        input_shape=(150, 150, 3)))\n",
    "detection_model.add(layers.MaxPooling2D((2, 2)))\n",
    "\n",
    "detection_model.add(layers.Conv2D(64, (3, 3), activation='relu'))\n",
    "detection_model.add(layers.MaxPooling2D((2, 2)))\n",
    "\n",
    "detection_model.add(layers.Conv2D(128, (3, 3), activation='relu'))\n",
    "detection_model.add(layers.MaxPooling2D((2, 2)))\n",
    "\n",
    "detection_model.add(layers.Conv2D(128, (3, 3), activation='relu'))\n",
    "detection_model.add(layers.MaxPooling2D((2, 2)))\n",
    "\n",
    "detection_model.add(layers.Flatten())\n",
    "\n",
    "detection_model.add(layers.Dropout(rate=0.5))\n",
    "\n",
    "detection_model.add(layers.Dense(512, activation='relu'))\n",
    "detection_model.add(layers.Dense(2, activation='softmax'))"
   ]
  },
  {
   "cell_type": "code",
   "execution_count": 6,
   "metadata": {},
   "outputs": [
    {
     "name": "stdout",
     "output_type": "stream",
     "text": [
      "Model: \"sequential\"\n",
      "_________________________________________________________________\n",
      "Layer (type)                 Output Shape              Param #   \n",
      "=================================================================\n",
      "conv2d (Conv2D)              (None, 148, 148, 32)      896       \n",
      "_________________________________________________________________\n",
      "max_pooling2d (MaxPooling2D) (None, 74, 74, 32)        0         \n",
      "_________________________________________________________________\n",
      "conv2d_1 (Conv2D)            (None, 72, 72, 64)        18496     \n",
      "_________________________________________________________________\n",
      "max_pooling2d_1 (MaxPooling2 (None, 36, 36, 64)        0         \n",
      "_________________________________________________________________\n",
      "conv2d_2 (Conv2D)            (None, 34, 34, 128)       73856     \n",
      "_________________________________________________________________\n",
      "max_pooling2d_2 (MaxPooling2 (None, 17, 17, 128)       0         \n",
      "_________________________________________________________________\n",
      "conv2d_3 (Conv2D)            (None, 15, 15, 128)       147584    \n",
      "_________________________________________________________________\n",
      "max_pooling2d_3 (MaxPooling2 (None, 7, 7, 128)         0         \n",
      "_________________________________________________________________\n",
      "flatten (Flatten)            (None, 6272)              0         \n",
      "_________________________________________________________________\n",
      "dropout (Dropout)            (None, 6272)              0         \n",
      "_________________________________________________________________\n",
      "dense (Dense)                (None, 512)               3211776   \n",
      "_________________________________________________________________\n",
      "dense_1 (Dense)              (None, 2)                 1026      \n",
      "=================================================================\n",
      "Total params: 3,453,634\n",
      "Trainable params: 3,453,634\n",
      "Non-trainable params: 0\n",
      "_________________________________________________________________\n"
     ]
    }
   ],
   "source": [
    "detection_model.summary()"
   ]
  },
  {
   "cell_type": "markdown",
   "metadata": {},
   "source": [
    "We now compile the model"
   ]
  },
  {
   "cell_type": "code",
   "execution_count": 7,
   "metadata": {},
   "outputs": [],
   "source": [
    "detection_model.compile(loss='binary_crossentropy',\n",
    "              optimizer='sgd',\n",
    "              metrics=['acc'])"
   ]
  },
  {
   "cell_type": "markdown",
   "metadata": {},
   "source": [
    "### Dataset"
   ]
  },
  {
   "cell_type": "markdown",
   "metadata": {},
   "source": [
    "We now set up the dataset path for the first model and all the necessary preparatory steps."
   ]
  },
  {
   "cell_type": "code",
   "execution_count": 8,
   "metadata": {},
   "outputs": [],
   "source": [
    "dataset = os.path.join(base_dir, 'dataset\\\\detect_mask_dataset')"
   ]
  },
  {
   "cell_type": "markdown",
   "metadata": {},
   "source": [
    "Set base directory for each process step"
   ]
  },
  {
   "cell_type": "code",
   "execution_count": 9,
   "metadata": {},
   "outputs": [],
   "source": [
    "train_dir = os.path.join(dataset, 'train')\n",
    "validation_dir = os.path.join(dataset, 'validation')\n",
    "test_dir = os.path.join(dataset, 'test')"
   ]
  },
  {
   "cell_type": "markdown",
   "metadata": {},
   "source": [
    "We now proceed with a quick summary of the data present in the directories"
   ]
  },
  {
   "cell_type": "code",
   "execution_count": 10,
   "metadata": {},
   "outputs": [
    {
     "name": "stdout",
     "output_type": "stream",
     "text": [
      "********************************************************\n",
      "TRAINING SET\n",
      "********************************************************\n",
      "Dir: dataset\\detect_mask_dataset\\train \n",
      "\n",
      "Images (#)\n",
      "Mask: 30000\n",
      "No Mask: 30000 \n",
      "\n",
      "********************************************************\n",
      "VALIDATION SET\n",
      "********************************************************\n",
      "Dir: dataset\\detect_mask_dataset\\validation \n",
      "\n",
      "Images (#)\n",
      "Mask: 14000\n",
      "No Mask: 14000 \n",
      "\n",
      "********************************************************\n",
      "TEST SET\n",
      "********************************************************\n",
      "Dir: dataset\\detect_mask_dataset\\test \n",
      "\n",
      "Images (#)\n",
      "Mask: 10000\n",
      "No Mask: 10000\n"
     ]
    }
   ],
   "source": [
    "print(\"********************************************************\")\n",
    "print(\"TRAINING SET\")\n",
    "print(\"********************************************************\")\n",
    "print(\"Dir:\", train_dir, '\\n')\n",
    "train_mask_dir = os.path.join(train_dir, 'mask')\n",
    "train_no_mask_dir = os.path.join(train_dir, 'no_mask')\n",
    "print(\"Images (#)\")\n",
    "print(\"Mask:\", len(os.listdir(train_mask_dir)))\n",
    "print(\"No Mask:\", len(os.listdir(train_no_mask_dir)), '\\n')\n",
    "\n",
    "print(\"********************************************************\")\n",
    "print(\"VALIDATION SET\")\n",
    "print(\"********************************************************\")\n",
    "print(\"Dir:\", validation_dir, '\\n')\n",
    "validation_mask_dir = os.path.join(validation_dir, 'mask')\n",
    "validation_no_mask_dir = os.path.join(validation_dir, 'no_mask')\n",
    "print(\"Images (#)\")\n",
    "print(\"Mask:\", len(os.listdir(validation_mask_dir)))\n",
    "print(\"No Mask:\", len(os.listdir(validation_no_mask_dir)), '\\n')\n",
    "\n",
    "print(\"********************************************************\")\n",
    "print(\"TEST SET\")\n",
    "print(\"********************************************************\")\n",
    "print(\"Dir:\", test_dir, '\\n')\n",
    "test_mask_dir = os.path.join(test_dir, 'mask')\n",
    "test_no_mask_dir = os.path.join(test_dir, 'no_mask')\n",
    "print(\"Images (#)\")\n",
    "print(\"Mask:\", len(os.listdir(test_mask_dir)))\n",
    "print(\"No Mask:\", len(os.listdir(test_no_mask_dir)))"
   ]
  },
  {
   "cell_type": "markdown",
   "metadata": {},
   "source": [
    "### Model Training"
   ]
  },
  {
   "cell_type": "markdown",
   "metadata": {},
   "source": [
    "For the training phase we decide to apply a few transofrmation to the training dataset in order to be able to better generalize. We noticed that light exposure in real environments are quite significant, hence we added a **brightness** transformation factor as well."
   ]
  },
  {
   "cell_type": "code",
   "execution_count": 11,
   "metadata": {},
   "outputs": [
    {
     "name": "stdout",
     "output_type": "stream",
     "text": [
      "Found 60000 images belonging to 2 classes.\n"
     ]
    }
   ],
   "source": [
    "train_datagen_augmented = ImageDataGenerator(\n",
    "    rescale=1./255,\n",
    "    rotation_range=40,\n",
    "    width_shift_range=0.2,\n",
    "    height_shift_range=0.2,\n",
    "    shear_range=0.2,\n",
    "    zoom_range=0.2,\n",
    "    brightness_range=[0.3,1.0],\n",
    "    horizontal_flip=True)\n",
    "\n",
    "train_generator_augmented = train_datagen_augmented.flow_from_directory(\n",
    "        train_dir,\n",
    "        target_size=(150, 150),\n",
    "        batch_size=75,\n",
    "        class_mode='categorical')"
   ]
  },
  {
   "cell_type": "code",
   "execution_count": 12,
   "metadata": {},
   "outputs": [
    {
     "name": "stdout",
     "output_type": "stream",
     "text": [
      "Found 28000 images belonging to 2 classes.\n"
     ]
    }
   ],
   "source": [
    "validation_datagen = ImageDataGenerator(rescale=1./255)\n",
    "\n",
    "validation_generator = validation_datagen.flow_from_directory(\n",
    "        validation_dir, # validation directory\n",
    "        target_size=(150, 150),\n",
    "        batch_size=40,\n",
    "        class_mode='categorical')"
   ]
  },
  {
   "cell_type": "code",
   "execution_count": 13,
   "metadata": {},
   "outputs": [
    {
     "name": "stdout",
     "output_type": "stream",
     "text": [
      "data batch shape: (75, 150, 150, 3)\n",
      "labels batch shape: (75, 2)\n"
     ]
    }
   ],
   "source": [
    "for data_batch, labels_batch in train_generator_augmented:\n",
    "    print('data batch shape:', data_batch.shape)\n",
    "    print('labels batch shape:', labels_batch.shape)\n",
    "    break"
   ]
  },
  {
   "cell_type": "markdown",
   "metadata": {},
   "source": [
    "We then train our first model.\n",
    "\n",
    "Note that we do not use any early stopper due to short training time thanks to the GPU and limited number of epochs due to fast convergence."
   ]
  },
  {
   "cell_type": "code",
   "execution_count": 14,
   "metadata": {
    "scrolled": false
   },
   "outputs": [
    {
     "name": "stdout",
     "output_type": "stream",
     "text": [
      "Epoch 1/10\n",
      "400/400 [==============================] - 385s 951ms/step - loss: 0.6421 - acc: 0.6232 - val_loss: 0.1675 - val_acc: 0.9717\n",
      "Epoch 2/10\n",
      "400/400 [==============================] - 354s 885ms/step - loss: 0.2552 - acc: 0.9157 - val_loss: 0.1128 - val_acc: 0.9750\n",
      "Epoch 3/10\n",
      "400/400 [==============================] - 352s 881ms/step - loss: 0.2084 - acc: 0.9333 - val_loss: 0.0223 - val_acc: 0.9958\n",
      "Epoch 4/10\n",
      "400/400 [==============================] - 353s 882ms/step - loss: 0.1836 - acc: 0.9428 - val_loss: 0.0503 - val_acc: 0.9892\n",
      "Epoch 5/10\n",
      "400/400 [==============================] - 338s 845ms/step - loss: 0.1714 - acc: 0.9458 - val_loss: 0.0303 - val_acc: 0.9917\n",
      "Epoch 6/10\n",
      "400/400 [==============================] - 327s 817ms/step - loss: 0.1576 - acc: 0.9513 - val_loss: 0.0716 - val_acc: 0.9883\n",
      "Epoch 7/10\n",
      "400/400 [==============================] - 324s 809ms/step - loss: 0.1450 - acc: 0.9554 - val_loss: 0.0556 - val_acc: 0.9800\n",
      "Epoch 8/10\n",
      "400/400 [==============================] - 324s 809ms/step - loss: 0.1368 - acc: 0.9566 - val_loss: 0.0292 - val_acc: 0.9900\n",
      "Epoch 9/10\n",
      "400/400 [==============================] - 320s 800ms/step - loss: 0.1251 - acc: 0.9609 - val_loss: 0.0477 - val_acc: 0.9825\n",
      "Epoch 10/10\n",
      "400/400 [==============================] - 323s 806ms/step - loss: 0.1170 - acc: 0.9637 - val_loss: 0.0285 - val_acc: 0.9908\n"
     ]
    }
   ],
   "source": [
    "history = detection_model.fit(\n",
    "    train_generator_augmented,\n",
    "    steps_per_epoch=400,\n",
    "    epochs=10,\n",
    "    validation_data=validation_generator,\n",
    "    validation_steps=30\n",
    ")"
   ]
  },
  {
   "cell_type": "markdown",
   "metadata": {},
   "source": [
    "Saving the model"
   ]
  },
  {
   "cell_type": "code",
   "execution_count": 15,
   "metadata": {},
   "outputs": [],
   "source": [
    "detection_model.save('models/mask-detection/mask_detection_model.h5') "
   ]
  },
  {
   "cell_type": "markdown",
   "metadata": {},
   "source": [
    "Printing accuracy metrics in the training and validation phase"
   ]
  },
  {
   "cell_type": "code",
   "execution_count": 16,
   "metadata": {},
   "outputs": [
    {
     "data": {
      "image/png": "[encoded data removed]",
      "text/plain": [
       "<Figure size 432x288 with 1 Axes>"
      ]
     },
     "metadata": {
      "needs_background": "light"
     },
     "output_type": "display_data"
    },
    {
     "data": {
      "image/png": "[encoded data removed]",
      "text/plain": [
       "<Figure size 432x288 with 1 Axes>"
      ]
     },
     "metadata": {
      "needs_background": "light"
     },
     "output_type": "display_data"
    }
   ],
   "source": [
    "acc = history.history['acc']\n",
    "val_acc = history.history['val_acc']\n",
    "loss = history.history['loss']\n",
    "val_loss = history.history['val_loss']\n",
    "\n",
    "epochs = range(len(acc))\n",
    "\n",
    "plt.plot(epochs, acc, 'r+', label='Training acc')\n",
    "plt.plot(epochs, val_acc, 'r', label='Validation acc')\n",
    "plt.title('Training and Validation accuracy')\n",
    "plt.legend()\n",
    "\n",
    "plt.figure()\n",
    "\n",
    "plt.plot(epochs, loss, 'b+', label='Training loss')\n",
    "plt.plot(epochs, val_loss, 'b', label='Validation loss')\n",
    "plt.title('Training and Validation loss')\n",
    "plt.legend()\n",
    "\n",
    "plt.show()"
   ]
  },
  {
   "cell_type": "markdown",
   "metadata": {},
   "source": [
    "The validation accuracy is constantly higher than the training accuracy due to the dropout layer that is very harsh in the training phase."
   ]
  },
  {
   "cell_type": "markdown",
   "metadata": {},
   "source": [
    "### Evaluate Model"
   ]
  },
  {
   "cell_type": "code",
   "execution_count": 17,
   "metadata": {},
   "outputs": [
    {
     "name": "stdout",
     "output_type": "stream",
     "text": [
      "Found 20000 images belonging to 2 classes.\n"
     ]
    }
   ],
   "source": [
    "test_datagen = ImageDataGenerator(rescale=1./255)\n",
    "\n",
    "test_generator = test_datagen.flow_from_directory(\n",
    "        test_dir,\n",
    "        target_size=(150, 150),\n",
    "        batch_size=30,\n",
    "        class_mode='categorical')"
   ]
  },
  {
   "cell_type": "code",
   "execution_count": 18,
   "metadata": {},
   "outputs": [],
   "source": [
    "scores = detection_model.evaluate(test_generator, verbose=0)"
   ]
  },
  {
   "cell_type": "code",
   "execution_count": 19,
   "metadata": {},
   "outputs": [
    {
     "name": "stdout",
     "output_type": "stream",
     "text": [
      "acc: 98.81%\n"
     ]
    }
   ],
   "source": [
    "print(\"%s: %.2f%%\" % (detection_model.metrics_names[1], scores[1]*100))"
   ]
  },
  {
   "cell_type": "markdown",
   "metadata": {},
   "source": [
    "____"
   ]
  },
  {
   "cell_type": "markdown",
   "metadata": {},
   "source": [
    "## 2. Mask Correctness"
   ]
  },
  {
   "cell_type": "markdown",
   "metadata": {},
   "source": [
    "We want to build a model able to detect if a mask is present or not on a specific individual, without checking its actual correctness.\n",
    "\n",
    "For this reason we will need to train a net with 2 outputs:\n",
    "1. **Proper**\n",
    "2. **Improper**"
   ]
  },
  {
   "cell_type": "markdown",
   "metadata": {},
   "source": [
    "### Mask Correctness Model Set-Up"
   ]
  },
  {
   "cell_type": "markdown",
   "metadata": {},
   "source": [
    "The model chosen is a sequential CNN with the following structure:"
   ]
  },
  {
   "cell_type": "code",
   "execution_count": 22,
   "metadata": {},
   "outputs": [],
   "source": [
    "mask_correctness = models.Sequential()\n",
    "\n",
    "mask_correctness.add(layers.Conv2D(128, (3, 3), activation='relu',\n",
    "                        input_shape=(150, 150, 3)))\n",
    "mask_correctness.add(layers.MaxPooling2D((2, 2)))\n",
    "\n",
    "mask_correctness.add(layers.Conv2D(128, (3, 3), activation='relu'))\n",
    "mask_correctness.add(layers.MaxPooling2D((2, 2)))\n",
    "\n",
    "mask_correctness.add(layers.Conv2D(64, (3, 3), activation='relu'))\n",
    "mask_correctness.add(layers.MaxPooling2D((2, 2)))\n",
    "\n",
    "mask_correctness.add(layers.Conv2D(64, (3, 3), activation='relu'))\n",
    "mask_correctness.add(layers.MaxPooling2D((2, 2)))\n",
    "\n",
    "mask_correctness.add(layers.Flatten())\n",
    "\n",
    "mask_correctness.add(layers.Dropout(rate=0.5))\n",
    "\n",
    "mask_correctness.add(layers.Dense(50, activation='relu'))\n",
    "mask_correctness.add(layers.Dense(2, activation='softmax'))"
   ]
  },
  {
   "cell_type": "code",
   "execution_count": 23,
   "metadata": {
    "scrolled": false
   },
   "outputs": [
    {
     "name": "stdout",
     "output_type": "stream",
     "text": [
      "Model: \"sequential_1\"\n",
      "_________________________________________________________________\n",
      "Layer (type)                 Output Shape              Param #   \n",
      "=================================================================\n",
      "conv2d_4 (Conv2D)            (None, 148, 148, 128)     3584      \n",
      "_________________________________________________________________\n",
      "max_pooling2d_4 (MaxPooling2 (None, 74, 74, 128)       0         \n",
      "_________________________________________________________________\n",
      "conv2d_5 (Conv2D)            (None, 72, 72, 128)       147584    \n",
      "_________________________________________________________________\n",
      "max_pooling2d_5 (MaxPooling2 (None, 36, 36, 128)       0         \n",
      "_________________________________________________________________\n",
      "conv2d_6 (Conv2D)            (None, 34, 34, 64)        73792     \n",
      "_________________________________________________________________\n",
      "max_pooling2d_6 (MaxPooling2 (None, 17, 17, 64)        0         \n",
      "_________________________________________________________________\n",
      "conv2d_7 (Conv2D)            (None, 15, 15, 64)        36928     \n",
      "_________________________________________________________________\n",
      "max_pooling2d_7 (MaxPooling2 (None, 7, 7, 64)          0         \n",
      "_________________________________________________________________\n",
      "flatten_1 (Flatten)          (None, 3136)              0         \n",
      "_________________________________________________________________\n",
      "dropout_1 (Dropout)          (None, 3136)              0         \n",
      "_________________________________________________________________\n",
      "dense_2 (Dense)              (None, 50)                156850    \n",
      "_________________________________________________________________\n",
      "dense_3 (Dense)              (None, 2)                 102       \n",
      "=================================================================\n",
      "Total params: 418,840\n",
      "Trainable params: 418,840\n",
      "Non-trainable params: 0\n",
      "_________________________________________________________________\n"
     ]
    }
   ],
   "source": [
    "mask_correctness.summary()"
   ]
  },
  {
   "cell_type": "markdown",
   "metadata": {},
   "source": [
    "And we compile the model as well:"
   ]
  },
  {
   "cell_type": "code",
   "execution_count": 24,
   "metadata": {},
   "outputs": [],
   "source": [
    "mask_correctness.compile(loss='binary_crossentropy',\n",
    "              optimizer=\"sgd\",\n",
    "              metrics=['acc'])"
   ]
  },
  {
   "cell_type": "markdown",
   "metadata": {},
   "source": [
    "### Dataset"
   ]
  },
  {
   "cell_type": "markdown",
   "metadata": {},
   "source": [
    "We now set up the dataset path for the first model and all the necessary preparatory steps."
   ]
  },
  {
   "cell_type": "code",
   "execution_count": 25,
   "metadata": {},
   "outputs": [],
   "source": [
    "dataset = os.path.join(base_dir, 'dataset\\\\mask_correctness_dataset')"
   ]
  },
  {
   "cell_type": "markdown",
   "metadata": {},
   "source": [
    "Set base directory for each process step"
   ]
  },
  {
   "cell_type": "code",
   "execution_count": 26,
   "metadata": {},
   "outputs": [],
   "source": [
    "train_dir = os.path.join(dataset, 'train')\n",
    "validation_dir = os.path.join(dataset, 'validation')\n",
    "test_dir = os.path.join(dataset, 'test')"
   ]
  },
  {
   "cell_type": "markdown",
   "metadata": {},
   "source": [
    "We now proceed with a quick summary of the data present in the directories"
   ]
  },
  {
   "cell_type": "code",
   "execution_count": 28,
   "metadata": {},
   "outputs": [
    {
     "name": "stdout",
     "output_type": "stream",
     "text": [
      "********************************************************\n",
      "TRAINING SET\n",
      "********************************************************\n",
      "Dir: dataset\\mask_correctness_dataset\\train \n",
      "\n",
      "Images (#)\n",
      "Proper: 30000\n",
      "Improper: 30000 \n",
      "\n",
      "********************************************************\n",
      "VALIDATION SET\n",
      "********************************************************\n",
      "Dir: dataset\\mask_correctness_dataset\\validation \n",
      "\n",
      "Images (#)\n",
      "Proper: 4000\n",
      "Improper: 4000 \n",
      "\n",
      "********************************************************\n",
      "TEST SET\n",
      "********************************************************\n",
      "Dir: dataset\\mask_correctness_dataset\\test \n",
      "\n",
      "Images (#)\n",
      "Proper: 9000\n",
      "Improper: 9000\n"
     ]
    }
   ],
   "source": [
    "print(\"********************************************************\")\n",
    "print(\"TRAINING SET\")\n",
    "print(\"********************************************************\")\n",
    "print(\"Dir:\", train_dir, '\\n')\n",
    "train_proper_dir = os.path.join(train_dir, 'proper')\n",
    "train_improper_dir = os.path.join(train_dir, 'improper')\n",
    "print(\"Images (#)\")\n",
    "print(\"Proper:\", len(os.listdir(train_proper_dir)))\n",
    "print(\"Improper:\", len(os.listdir(train_improper_dir)), '\\n')\n",
    "\n",
    "print(\"********************************************************\")\n",
    "print(\"VALIDATION SET\")\n",
    "print(\"********************************************************\")\n",
    "print(\"Dir:\", validation_dir, '\\n')\n",
    "validation_proper_dir = os.path.join(validation_dir, 'proper')\n",
    "validation_improper_dir = os.path.join(validation_dir, 'improper')\n",
    "print(\"Images (#)\")\n",
    "print(\"Proper:\", len(os.listdir(validation_proper_dir)))\n",
    "print(\"Improper:\", len(os.listdir(validation_improper_dir)), '\\n')\n",
    "\n",
    "print(\"********************************************************\")\n",
    "print(\"TEST SET\")\n",
    "print(\"********************************************************\")\n",
    "print(\"Dir:\", test_dir, '\\n')\n",
    "test_proper_dir = os.path.join(test_dir, 'proper')\n",
    "test_improper_dir = os.path.join(test_dir, 'improper')\n",
    "print(\"Images (#)\")\n",
    "print(\"Proper:\", len(os.listdir(test_proper_dir)))\n",
    "print(\"Improper:\", len(os.listdir(test_improper_dir)))"
   ]
  },
  {
   "cell_type": "markdown",
   "metadata": {},
   "source": [
    "### Preprocessing"
   ]
  },
  {
   "cell_type": "code",
   "execution_count": 29,
   "metadata": {},
   "outputs": [
    {
     "name": "stdout",
     "output_type": "stream",
     "text": [
      "Found 60000 images belonging to 2 classes.\n"
     ]
    }
   ],
   "source": [
    "train_datagen_augmented = ImageDataGenerator(\n",
    "    rescale=1./255,\n",
    "    rotation_range=40,\n",
    "    width_shift_range=0.2,\n",
    "    height_shift_range=0.2,\n",
    "    shear_range=0.2,\n",
    "    zoom_range=0.2,\n",
    "    brightness_range=[0.3,1.0],\n",
    "    horizontal_flip=True)\n",
    "\n",
    "train_generator_augmented = train_datagen_augmented.flow_from_directory(\n",
    "        train_dir,\n",
    "        target_size=(150, 150),\n",
    "        batch_size=50,\n",
    "        class_mode='categorical')"
   ]
  },
  {
   "cell_type": "code",
   "execution_count": 30,
   "metadata": {},
   "outputs": [
    {
     "name": "stdout",
     "output_type": "stream",
     "text": [
      "Found 8000 images belonging to 2 classes.\n"
     ]
    }
   ],
   "source": [
    "validation_datagen = ImageDataGenerator(rescale=1./255)\n",
    "\n",
    "validation_generator = validation_datagen.flow_from_directory(\n",
    "        validation_dir, # validation directory\n",
    "        target_size=(150, 150),\n",
    "        batch_size=30,\n",
    "        class_mode='categorical')"
   ]
  },
  {
   "cell_type": "code",
   "execution_count": 31,
   "metadata": {},
   "outputs": [
    {
     "name": "stdout",
     "output_type": "stream",
     "text": [
      "data batch shape: (50, 150, 150, 3)\n",
      "labels batch shape: (50, 2)\n"
     ]
    }
   ],
   "source": [
    "for data_batch, labels_batch in train_generator_augmented:\n",
    "    print('data batch shape:', data_batch.shape)\n",
    "    print('labels batch shape:', labels_batch.shape)\n",
    "    break"
   ]
  },
  {
   "cell_type": "markdown",
   "metadata": {},
   "source": [
    "### Model Training"
   ]
  },
  {
   "cell_type": "code",
   "execution_count": 32,
   "metadata": {},
   "outputs": [
    {
     "name": "stdout",
     "output_type": "stream",
     "text": [
      "Epoch 1/15\n",
      "500/500 [==============================] - 487s 969ms/step - loss: 0.6885 - acc: 0.5728 - val_loss: 0.6565 - val_acc: 0.5583\n",
      "Epoch 2/15\n",
      "500/500 [==============================] - 473s 947ms/step - loss: 0.6183 - acc: 0.6751 - val_loss: 0.3755 - val_acc: 0.8617\n",
      "Epoch 3/15\n",
      "500/500 [==============================] - 550s 1s/step - loss: 0.5227 - acc: 0.7472 - val_loss: 0.3810 - val_acc: 0.8050\n",
      "Epoch 4/15\n",
      "500/500 [==============================] - 545s 1s/step - loss: 0.4535 - acc: 0.7977 - val_loss: 0.3209 - val_acc: 0.8767\n",
      "Epoch 5/15\n",
      "500/500 [==============================] - 491s 982ms/step - loss: 0.4038 - acc: 0.8293 - val_loss: 0.2581 - val_acc: 0.8933\n",
      "Epoch 6/15\n",
      "500/500 [==============================] - 446s 892ms/step - loss: 0.3718 - acc: 0.8442 - val_loss: 0.2622 - val_acc: 0.8933\n",
      "Epoch 7/15\n",
      "500/500 [==============================] - 434s 867ms/step - loss: 0.3517 - acc: 0.8563 - val_loss: 0.2962 - val_acc: 0.8700\n",
      "Epoch 8/15\n",
      "500/500 [==============================] - 428s 856ms/step - loss: 0.3293 - acc: 0.8647 - val_loss: 0.1581 - val_acc: 0.9400\n",
      "Epoch 9/15\n",
      "500/500 [==============================] - 425s 849ms/step - loss: 0.3170 - acc: 0.8718 - val_loss: 0.1880 - val_acc: 0.9250\n",
      "Epoch 10/15\n",
      "500/500 [==============================] - 426s 852ms/step - loss: 0.2962 - acc: 0.8817 - val_loss: 0.1444 - val_acc: 0.9500\n",
      "Epoch 11/15\n",
      "500/500 [==============================] - 423s 845ms/step - loss: 0.2882 - acc: 0.8864 - val_loss: 0.1053 - val_acc: 0.9600\n",
      "Epoch 12/15\n",
      "500/500 [==============================] - 422s 843ms/step - loss: 0.2530 - acc: 0.9008 - val_loss: 0.0964 - val_acc: 0.9683\n",
      "Epoch 13/15\n",
      "500/500 [==============================] - 420s 841ms/step - loss: 0.2380 - acc: 0.9095 - val_loss: 0.0903 - val_acc: 0.9733\n",
      "Epoch 14/15\n",
      "500/500 [==============================] - 422s 844ms/step - loss: 0.2220 - acc: 0.9146 - val_loss: 0.1395 - val_acc: 0.9600\n",
      "Epoch 15/15\n",
      "500/500 [==============================] - 419s 838ms/step - loss: 0.2064 - acc: 0.9225 - val_loss: 0.1491 - val_acc: 0.9467\n"
     ]
    }
   ],
   "source": [
    "history = mask_correctness.fit(\n",
    "    train_generator_augmented,\n",
    "    steps_per_epoch=500,\n",
    "    epochs=15,\n",
    "    validation_data=validation_generator,\n",
    "    validation_steps=20\n",
    ")"
   ]
  },
  {
   "cell_type": "markdown",
   "metadata": {},
   "source": [
    "And we save the model"
   ]
  },
  {
   "cell_type": "code",
   "execution_count": 33,
   "metadata": {},
   "outputs": [],
   "source": [
    "mask_correctness.save('models/facemask-correctness/mask_correctness_model.h5') "
   ]
  },
  {
   "cell_type": "markdown",
   "metadata": {},
   "source": [
    "Printing accuracy metrics in the training and validation phase"
   ]
  },
  {
   "cell_type": "code",
   "execution_count": 35,
   "metadata": {},
   "outputs": [
    {
     "data": {
      "image/png": "[encoded data removed]",
      "text/plain": [
       "<Figure size 432x288 with 1 Axes>"
      ]
     },
     "metadata": {
      "needs_background": "light"
     },
     "output_type": "display_data"
    },
    {
     "data": {
      "image/png": "[encoded data removed]",
      "text/plain": [
       "<Figure size 432x288 with 1 Axes>"
      ]
     },
     "metadata": {
      "needs_background": "light"
     },
     "output_type": "display_data"
    }
   ],
   "source": [
    "acc = history.history['acc']\n",
    "val_acc = history.history['val_acc']\n",
    "loss = history.history['loss']\n",
    "val_loss = history.history['val_loss']\n",
    "\n",
    "epochs = range(len(acc))\n",
    "\n",
    "plt.plot(epochs, acc, 'r+', label='Training acc')\n",
    "plt.plot(epochs, val_acc, 'r', label='Validation acc')\n",
    "plt.title('Training and validation accuracy')\n",
    "plt.legend()\n",
    "\n",
    "plt.figure()\n",
    "\n",
    "plt.plot(epochs, loss, 'b+', label='Training loss')\n",
    "plt.plot(epochs, val_loss, 'b', label='Validation loss')\n",
    "plt.title('Training and validation loss')\n",
    "plt.legend()\n",
    "\n",
    "plt.show()"
   ]
  },
  {
   "cell_type": "markdown",
   "metadata": {},
   "source": [
    "### Evaluate Model"
   ]
  },
  {
   "cell_type": "code",
   "execution_count": 36,
   "metadata": {},
   "outputs": [
    {
     "name": "stdout",
     "output_type": "stream",
     "text": [
      "Found 18000 images belonging to 2 classes.\n"
     ]
    }
   ],
   "source": [
    "test_datagen = ImageDataGenerator(rescale=1./255)\n",
    "\n",
    "test_generator = test_datagen.flow_from_directory(\n",
    "        test_dir,\n",
    "        target_size=(150, 150),\n",
    "        batch_size=30,\n",
    "        class_mode='categorical')"
   ]
  },
  {
   "cell_type": "code",
   "execution_count": 37,
   "metadata": {},
   "outputs": [],
   "source": [
    "scores = mask_correctness.evaluate(test_generator, verbose=0)"
   ]
  },
  {
   "cell_type": "code",
   "execution_count": 38,
   "metadata": {},
   "outputs": [
    {
     "name": "stdout",
     "output_type": "stream",
     "text": [
      "acc: 94.88%\n"
     ]
    }
   ],
   "source": [
    "print(\"%s: %.2f%%\" % (mask_correctness.metrics_names[1], scores[1]*100))"
   ]
  },
  {
   "cell_type": "markdown",
   "metadata": {},
   "source": [
    "____"
   ]
  },
  {
   "cell_type": "markdown",
   "metadata": {},
   "source": [
    "## 3. Suggestions Model"
   ]
  },
  {
   "cell_type": "markdown",
   "metadata": {},
   "source": [
    "We want now to try classifying the different positions of the mask, trying to substitute the second model with a more precise and informative one.\n",
    "\n",
    "For this reason we will need to train a net with 4 outputs:\n",
    "1. **Proper** - The mask is properly worn\n",
    "2. **Off** - The mask is under the chin not covering any part of the face\n",
    "3. **Nose** - The mask is worn leaving the nose outside\n",
    "4. **Chin** - The Mask is covering mouth and nose but is worn incorrectly leaving the chin outside"
   ]
  },
  {
   "cell_type": "markdown",
   "metadata": {},
   "source": [
    "This time we will try to generate a model utilizing a hyperparameter tuner in oprder to find the most efficient model. You cna read more in the tuning section below."
   ]
  },
  {
   "cell_type": "code",
   "execution_count": 39,
   "metadata": {},
   "outputs": [],
   "source": [
    "model_dir = os.path.join(base_dir, 'models\\\\suggestions-detection')"
   ]
  },
  {
   "cell_type": "markdown",
   "metadata": {},
   "source": [
    "### Dataset"
   ]
  },
  {
   "cell_type": "markdown",
   "metadata": {},
   "source": [
    "We now set up the dataset path for the model and all the necessary preparatory steps."
   ]
  },
  {
   "cell_type": "code",
   "execution_count": 40,
   "metadata": {},
   "outputs": [],
   "source": [
    "dataset = os.path.join(base_dir, 'dataset\\\\suggestions_dataset')"
   ]
  },
  {
   "cell_type": "markdown",
   "metadata": {},
   "source": [
    "Set base directory for each process step"
   ]
  },
  {
   "cell_type": "code",
   "execution_count": 41,
   "metadata": {},
   "outputs": [],
   "source": [
    "train_dir = os.path.join(dataset, 'train')\n",
    "validation_dir = os.path.join(dataset, 'validation')\n",
    "test_dir = os.path.join(dataset, 'test')"
   ]
  },
  {
   "cell_type": "markdown",
   "metadata": {},
   "source": [
    "We now proceed with a quick summary of the data present in the directories"
   ]
  },
  {
   "cell_type": "code",
   "execution_count": 42,
   "metadata": {
    "scrolled": false
   },
   "outputs": [
    {
     "name": "stdout",
     "output_type": "stream",
     "text": [
      "********************************************************\n",
      "TRAINING SET\n",
      "********************************************************\n",
      "Dir: dataset\\suggestions_dataset\\train \n",
      "\n",
      "Images (#)\n",
      "Proper: 3000\n",
      "Off: 3000\n",
      "Nose: 3000\n",
      "Chin: 3000 \n",
      "\n",
      "********************************************************\n",
      "VALIDATION SET\n",
      "********************************************************\n",
      "Dir: dataset\\suggestions_dataset\\validation \n",
      "\n",
      "Images (#)\n",
      "Proper: 1000\n",
      "Off: 1000\n",
      "Nose: 1000\n",
      "Chin: 1000 \n",
      "\n",
      "********************************************************\n",
      "TEST SET\n",
      "********************************************************\n",
      "Dir: dataset\\suggestions_dataset\\test \n",
      "\n",
      "Images (#)\n",
      "Proper: 800\n",
      "Off: 800\n",
      "Nose: 800\n",
      "Chin: 800\n"
     ]
    }
   ],
   "source": [
    "print(\"********************************************************\")\n",
    "print(\"TRAINING SET\")\n",
    "print(\"********************************************************\")\n",
    "print(\"Dir:\", train_dir, '\\n')\n",
    "train_proper_dir = os.path.join(train_dir, 'proper')\n",
    "train_off_dir = os.path.join(train_dir, 'off')\n",
    "train_nose_dir = os.path.join(train_dir, 'nose')\n",
    "train_chin_dir = os.path.join(train_dir, 'chin')\n",
    "print(\"Images (#)\")\n",
    "print(\"Proper:\", len(os.listdir(train_proper_dir)))\n",
    "print(\"Off:\", len(os.listdir(train_off_dir)))\n",
    "print(\"Nose:\", len(os.listdir(train_nose_dir)))\n",
    "print(\"Chin:\", len(os.listdir(train_chin_dir)), '\\n')\n",
    "\n",
    "print(\"********************************************************\")\n",
    "print(\"VALIDATION SET\")\n",
    "print(\"********************************************************\")\n",
    "print(\"Dir:\", validation_dir, '\\n')\n",
    "validation_proper_dir = os.path.join(validation_dir, 'proper')\n",
    "validation_off_dir = os.path.join(validation_dir, 'off')\n",
    "validation_nose_dir = os.path.join(validation_dir, 'nose')\n",
    "validation_chin_dir = os.path.join(validation_dir, 'chin')\n",
    "print(\"Images (#)\")\n",
    "print(\"Proper:\", len(os.listdir(validation_proper_dir)))\n",
    "print(\"Off:\", len(os.listdir(validation_off_dir)))\n",
    "print(\"Nose:\", len(os.listdir(validation_nose_dir)))\n",
    "print(\"Chin:\", len(os.listdir(validation_chin_dir)), '\\n')\n",
    "\n",
    "print(\"********************************************************\")\n",
    "print(\"TEST SET\")\n",
    "print(\"********************************************************\")\n",
    "print(\"Dir:\", test_dir, '\\n')\n",
    "test_proper_dir = os.path.join(test_dir, 'proper')\n",
    "test_off_dir = os.path.join(test_dir, 'off')\n",
    "test_nose_dir = os.path.join(test_dir, 'nose')\n",
    "test_chin_dir = os.path.join(test_dir, 'chin')\n",
    "print(\"Images (#)\")\n",
    "print(\"Proper:\", len(os.listdir(test_proper_dir)))\n",
    "print(\"Off:\", len(os.listdir(test_off_dir)))\n",
    "print(\"Nose:\", len(os.listdir(test_nose_dir)))\n",
    "print(\"Chin:\", len(os.listdir(test_chin_dir)))"
   ]
  },
  {
   "cell_type": "markdown",
   "metadata": {},
   "source": [
    "### Preprocessing"
   ]
  },
  {
   "cell_type": "code",
   "execution_count": 43,
   "metadata": {},
   "outputs": [
    {
     "name": "stdout",
     "output_type": "stream",
     "text": [
      "Found 12000 images belonging to 4 classes.\n"
     ]
    }
   ],
   "source": [
    "train_datagen_augmented = ImageDataGenerator(\n",
    "    rescale=1./255,\n",
    "    rotation_range=40,\n",
    "    width_shift_range=0.2,\n",
    "    height_shift_range=0.2,\n",
    "    shear_range=0.2,\n",
    "    zoom_range=0.2,\n",
    "    brightness_range=[0.3,1.0],\n",
    "    horizontal_flip=True)\n",
    "\n",
    "train_generator_augmented = train_datagen_augmented.flow_from_directory(\n",
    "        train_dir,\n",
    "        target_size=(150, 150),\n",
    "        batch_size=50,\n",
    "        class_mode='categorical')"
   ]
  },
  {
   "cell_type": "code",
   "execution_count": 44,
   "metadata": {},
   "outputs": [
    {
     "name": "stdout",
     "output_type": "stream",
     "text": [
      "Found 4000 images belonging to 4 classes.\n"
     ]
    }
   ],
   "source": [
    "validation_datagen = ImageDataGenerator(rescale=1./255)\n",
    "\n",
    "validation_generator = validation_datagen.flow_from_directory(\n",
    "        validation_dir,\n",
    "        target_size=(150, 150),\n",
    "        batch_size=30,\n",
    "        class_mode='categorical')"
   ]
  },
  {
   "cell_type": "code",
   "execution_count": 45,
   "metadata": {},
   "outputs": [
    {
     "name": "stdout",
     "output_type": "stream",
     "text": [
      "data batch shape: (50, 150, 150, 3)\n",
      "labels batch shape: (50, 4)\n"
     ]
    }
   ],
   "source": [
    "for data_batch, labels_batch in train_generator_augmented:\n",
    "    print('data batch shape:', data_batch.shape)\n",
    "    print('labels batch shape:', labels_batch.shape)\n",
    "    break"
   ]
  },
  {
   "cell_type": "markdown",
   "metadata": {},
   "source": [
    "### Model Tuning"
   ]
  },
  {
   "cell_type": "markdown",
   "metadata": {},
   "source": [
    "EXPLAIN WHY TUNING"
   ]
  },
  {
   "cell_type": "markdown",
   "metadata": {},
   "source": [
    "To do so we will use the package **keras-tuner**.\n",
    "> O'Malley, T., Bursztein, E., Long, J., Chollet, F., Jin, H., Invernizzi, L., & others. (2019). Keras Tuner. https://github.com/keras-team/keras-tuner."
   ]
  },
  {
   "cell_type": "markdown",
   "metadata": {},
   "source": [
    "```! pip install keras-tuner```"
   ]
  },
  {
   "cell_type": "code",
   "execution_count": 46,
   "metadata": {},
   "outputs": [],
   "source": [
    "import keras_tuner as kt"
   ]
  },
  {
   "cell_type": "markdown",
   "metadata": {},
   "source": [
    "Firs of all we define our model generator function with the parameters we want to test:\n",
    "\n",
    "- ```n_layers```: is the number of layers, we set it variable between 1 and 4.\n",
    "- ```input_units```: are the input nodes in the convolutional layers, varying from 32 to 128 in steps of 32"
   ]
  },
  {
   "cell_type": "code",
   "execution_count": 47,
   "metadata": {},
   "outputs": [],
   "source": [
    "def create_model(hp):\n",
    "    \n",
    "    model = models.Sequential()\n",
    "    \n",
    "    model.add(layers.Conv2D(hp.Int(\"input_units\", min_value=32, max_value=128, step=32), (3, 3), activation='relu', input_shape=(150, 150, 3)))\n",
    "    model.add(layers.MaxPooling2D(pool_size=(2, 2)))\n",
    "    \n",
    "    for i in range(hp.Int(\"n_layers\", min_value=1, max_value=4)):\n",
    "        model.add(layers.Conv2D(hp.Int(f\"conv_{i}_units\", min_value=32, max_value=128, step=32), (3, 3), activation='relu'))\n",
    "        model.add(layers.MaxPooling2D(pool_size=(2, 2)))\n",
    "    \n",
    "    model.add(layers.Flatten())\n",
    "    \n",
    "    model.add(layers.Dropout(rate=0.5))\n",
    "    \n",
    "    model.add(layers.Dense(512, activation='relu'))\n",
    "    model.add(layers.Dense(4, activation='softmax'))\n",
    "\n",
    "    model.compile(loss='categorical_crossentropy',\n",
    "              optimizer='sgd',\n",
    "              metrics=['acc'])\n",
    "    \n",
    "    return model"
   ]
  },
  {
   "cell_type": "markdown",
   "metadata": {},
   "source": [
    "we initialize the tuner and the relevant information needed for the log storage"
   ]
  },
  {
   "cell_type": "code",
   "execution_count": 48,
   "metadata": {},
   "outputs": [],
   "source": [
    "from keras_tuner.tuners import RandomSearch\n",
    "from keras_tuner.engine.hyperparameters import HyperParameters\n",
    "hp = kt.HyperParameters()"
   ]
  },
  {
   "cell_type": "code",
   "execution_count": 49,
   "metadata": {},
   "outputs": [],
   "source": [
    "hyperparameter_tuning_dir = os.path.join(model_dir, 'hyperparameter-tuning')"
   ]
  },
  {
   "cell_type": "code",
   "execution_count": 50,
   "metadata": {},
   "outputs": [],
   "source": [
    "LOG_DIR = f\"{int(time.time())}\""
   ]
  },
  {
   "cell_type": "markdown",
   "metadata": {},
   "source": [
    "Then we initialize the random search"
   ]
  },
  {
   "cell_type": "code",
   "execution_count": 51,
   "metadata": {},
   "outputs": [],
   "source": [
    "tuner_detection = kt.RandomSearch(\n",
    "    create_model,\n",
    "    objective = 'val_acc',\n",
    "    max_trials = 20,\n",
    "    executions_per_trial = 2,\n",
    "    directory = os.path.join(hyperparameter_tuning_dir, LOG_DIR)\n",
    ")"
   ]
  },
  {
   "cell_type": "markdown",
   "metadata": {},
   "source": [
    "Eventually we execude the tuner research of the best model:"
   ]
  },
  {
   "cell_type": "code",
   "execution_count": 52,
   "metadata": {
    "scrolled": true
   },
   "outputs": [
    {
     "name": "stdout",
     "output_type": "stream",
     "text": [
      "Trial 20 Complete [00h 08m 04s]\n",
      "val_acc: 0.43137499690055847\n",
      "\n",
      "Best val_acc So Far: 0.750124990940094\n",
      "Total elapsed time: 02h 43m 25s\n",
      "INFO:tensorflow:Oracle triggered exit\n"
     ]
    }
   ],
   "source": [
    "tuner_detection.search(train_generator_augmented,\n",
    "             epochs=1,\n",
    "             validation_data=validation_generator)"
   ]
  },
  {
   "cell_type": "markdown",
   "metadata": {},
   "source": [
    "We extract the best model according to the tuner and pass it to the trainin phase."
   ]
  },
  {
   "cell_type": "code",
   "execution_count": 53,
   "metadata": {},
   "outputs": [],
   "source": [
    "best_model_suggestions = tuner_detection.get_best_models()[0]"
   ]
  },
  {
   "cell_type": "markdown",
   "metadata": {},
   "source": [
    "Let's view a summary of the best model found by the tuner:"
   ]
  },
  {
   "cell_type": "code",
   "execution_count": 54,
   "metadata": {
    "scrolled": false
   },
   "outputs": [
    {
     "name": "stdout",
     "output_type": "stream",
     "text": [
      "Model: \"sequential\"\n",
      "_________________________________________________________________\n",
      "Layer (type)                 Output Shape              Param #   \n",
      "=================================================================\n",
      "conv2d (Conv2D)              (None, 148, 148, 128)     3584      \n",
      "_________________________________________________________________\n",
      "max_pooling2d (MaxPooling2D) (None, 74, 74, 128)       0         \n",
      "_________________________________________________________________\n",
      "conv2d_1 (Conv2D)            (None, 72, 72, 128)       147584    \n",
      "_________________________________________________________________\n",
      "max_pooling2d_1 (MaxPooling2 (None, 36, 36, 128)       0         \n",
      "_________________________________________________________________\n",
      "conv2d_2 (Conv2D)            (None, 34, 34, 96)        110688    \n",
      "_________________________________________________________________\n",
      "max_pooling2d_2 (MaxPooling2 (None, 17, 17, 96)        0         \n",
      "_________________________________________________________________\n",
      "flatten (Flatten)            (None, 27744)             0         \n",
      "_________________________________________________________________\n",
      "dropout (Dropout)            (None, 27744)             0         \n",
      "_________________________________________________________________\n",
      "dense (Dense)                (None, 512)               14205440  \n",
      "_________________________________________________________________\n",
      "dense_1 (Dense)              (None, 4)                 2052      \n",
      "=================================================================\n",
      "Total params: 14,469,348\n",
      "Trainable params: 14,469,348\n",
      "Non-trainable params: 0\n",
      "_________________________________________________________________\n"
     ]
    }
   ],
   "source": [
    "best_model_suggestions.summary()"
   ]
  },
  {
   "cell_type": "markdown",
   "metadata": {},
   "source": [
    "### Model Training"
   ]
  },
  {
   "cell_type": "code",
   "execution_count": 55,
   "metadata": {
    "scrolled": false
   },
   "outputs": [
    {
     "name": "stdout",
     "output_type": "stream",
     "text": [
      "Epoch 1/20\n",
      "240/240 [==============================] - 250s 1s/step - loss: 1.1259 - acc: 0.4969 - val_loss: 0.9329 - val_acc: 0.5700\n",
      "Epoch 2/20\n",
      "240/240 [==============================] - 201s 836ms/step - loss: 1.0081 - acc: 0.5613 - val_loss: 0.8969 - val_acc: 0.5167\n",
      "Epoch 3/20\n",
      "240/240 [==============================] - 202s 842ms/step - loss: 0.9303 - acc: 0.5983 - val_loss: 0.8472 - val_acc: 0.5367\n",
      "Epoch 4/20\n",
      "240/240 [==============================] - 200s 832ms/step - loss: 0.8733 - acc: 0.6272 - val_loss: 0.7527 - val_acc: 0.6167\n",
      "Epoch 5/20\n",
      "240/240 [==============================] - 200s 833ms/step - loss: 0.8239 - acc: 0.6413 - val_loss: 0.7027 - val_acc: 0.7000\n",
      "Epoch 6/20\n",
      "240/240 [==============================] - 200s 832ms/step - loss: 0.7739 - acc: 0.6620 - val_loss: 0.6908 - val_acc: 0.7267\n",
      "Epoch 7/20\n",
      "240/240 [==============================] - 200s 831ms/step - loss: 0.7390 - acc: 0.6871 - val_loss: 0.4961 - val_acc: 0.7933\n",
      "Epoch 8/20\n",
      "240/240 [==============================] - 200s 831ms/step - loss: 0.7144 - acc: 0.6993 - val_loss: 0.4630 - val_acc: 0.8067\n",
      "Epoch 9/20\n",
      "240/240 [==============================] - 200s 832ms/step - loss: 0.6778 - acc: 0.7172 - val_loss: 0.4998 - val_acc: 0.8267\n",
      "Epoch 10/20\n",
      "240/240 [==============================] - 199s 830ms/step - loss: 0.6504 - acc: 0.7322 - val_loss: 0.5218 - val_acc: 0.7700\n",
      "Epoch 11/20\n",
      "240/240 [==============================] - 200s 831ms/step - loss: 0.6330 - acc: 0.7432 - val_loss: 0.4500 - val_acc: 0.8367\n",
      "Epoch 12/20\n",
      "240/240 [==============================] - 200s 832ms/step - loss: 0.5823 - acc: 0.7673 - val_loss: 0.3790 - val_acc: 0.8467\n",
      "Epoch 13/20\n",
      "240/240 [==============================] - 200s 833ms/step - loss: 0.5791 - acc: 0.7737 - val_loss: 0.3574 - val_acc: 0.8733\n",
      "Epoch 14/20\n",
      "240/240 [==============================] - 203s 846ms/step - loss: 0.5399 - acc: 0.7894 - val_loss: 0.3093 - val_acc: 0.8933\n",
      "Epoch 15/20\n",
      "240/240 [==============================] - 208s 868ms/step - loss: 0.5101 - acc: 0.8035 - val_loss: 0.3908 - val_acc: 0.8633\n",
      "Epoch 16/20\n",
      "240/240 [==============================] - 212s 884ms/step - loss: 0.4862 - acc: 0.8207 - val_loss: 0.2540 - val_acc: 0.9167\n",
      "Epoch 17/20\n",
      "240/240 [==============================] - 213s 885ms/step - loss: 0.4590 - acc: 0.8296 - val_loss: 0.2099 - val_acc: 0.9167\n",
      "Epoch 18/20\n",
      "240/240 [==============================] - 207s 863ms/step - loss: 0.4397 - acc: 0.8357 - val_loss: 0.3446 - val_acc: 0.8800\n",
      "Epoch 19/20\n",
      "240/240 [==============================] - 206s 858ms/step - loss: 0.4225 - acc: 0.8444 - val_loss: 0.1421 - val_acc: 0.9400\n",
      "Epoch 20/20\n",
      "240/240 [==============================] - 207s 862ms/step - loss: 0.3996 - acc: 0.8510 - val_loss: 0.1930 - val_acc: 0.9267\n"
     ]
    }
   ],
   "source": [
    "history = best_model_suggestions.fit(\n",
    "    train_generator_augmented,\n",
    "    steps_per_epoch=240,\n",
    "    epochs=20,\n",
    "    validation_data=validation_generator,\n",
    "    validation_steps=10\n",
    ")"
   ]
  },
  {
   "cell_type": "code",
   "execution_count": 56,
   "metadata": {},
   "outputs": [],
   "source": [
    "best_model_suggestions.save('models/suggestions-detection/suggestions_model.h5') "
   ]
  },
  {
   "cell_type": "code",
   "execution_count": 57,
   "metadata": {},
   "outputs": [
    {
     "data": {
      "image/png": "[encoded data removed]",
      "text/plain": [
       "<Figure size 432x288 with 1 Axes>"
      ]
     },
     "metadata": {
      "needs_background": "light"
     },
     "output_type": "display_data"
    },
    {
     "data": {
      "image/png": "[encoded data removed]",
      "text/plain": [
       "<Figure size 432x288 with 1 Axes>"
      ]
     },
     "metadata": {
      "needs_background": "light"
     },
     "output_type": "display_data"
    }
   ],
   "source": [
    "acc = history.history['acc']\n",
    "val_acc = history.history['val_acc']\n",
    "loss = history.history['loss']\n",
    "val_loss = history.history['val_loss']\n",
    "\n",
    "epochs = range(len(acc))\n",
    "\n",
    "plt.plot(epochs, acc, 'r+', label='Training acc')\n",
    "plt.plot(epochs, val_acc, 'r', label='Validation acc')\n",
    "plt.title('Training and validation accuracy')\n",
    "plt.legend()\n",
    "\n",
    "plt.figure()\n",
    "\n",
    "plt.plot(epochs, loss, 'b+', label='Training loss')\n",
    "plt.plot(epochs, val_loss, 'b', label='Validation loss')\n",
    "plt.title('Training and validation loss')\n",
    "plt.legend()\n",
    "\n",
    "plt.show()"
   ]
  },
  {
   "cell_type": "markdown",
   "metadata": {},
   "source": [
    "### Evaluate Model"
   ]
  },
  {
   "cell_type": "code",
   "execution_count": 58,
   "metadata": {},
   "outputs": [
    {
     "name": "stdout",
     "output_type": "stream",
     "text": [
      "Found 3200 images belonging to 4 classes.\n"
     ]
    }
   ],
   "source": [
    "test_datagen = ImageDataGenerator(rescale=1./255)\n",
    "\n",
    "test_generator = test_datagen.flow_from_directory(\n",
    "        test_dir,\n",
    "        target_size=(150, 150),\n",
    "        batch_size=30,\n",
    "        class_mode='categorical')"
   ]
  },
  {
   "cell_type": "code",
   "execution_count": 59,
   "metadata": {},
   "outputs": [],
   "source": [
    "scores = best_model_suggestions.evaluate(test_generator, verbose=0)"
   ]
  },
  {
   "cell_type": "code",
   "execution_count": 60,
   "metadata": {},
   "outputs": [
    {
     "name": "stdout",
     "output_type": "stream",
     "text": [
      "acc: 92.53%\n"
     ]
    }
   ],
   "source": [
    "print(\"%s: %.2f%%\" % (best_model_suggestions.metrics_names[1], scores[1]*100))"
   ]
  }
 ],
 "metadata": {
  "kernelspec": {
   "display_name": "Python 3",
   "language": "python",
   "name": "python3"
  },
  "language_info": {
   "codemirror_mode": {
    "name": "ipython",
    "version": 3
   },
   "file_extension": ".py",
   "mimetype": "text/x-python",
   "name": "python",
   "nbconvert_exporter": "python",
   "pygments_lexer": "ipython3",
   "version": "3.8.8"
  }
 },
 "nbformat": 4,
 "nbformat_minor": 2
}
